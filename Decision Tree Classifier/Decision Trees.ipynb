{
 "cells": [
  {
   "cell_type": "markdown",
   "metadata": {},
   "source": [
    "# Importing Libraries"
   ]
  },
  {
   "cell_type": "code",
   "execution_count": 1,
   "metadata": {},
   "outputs": [],
   "source": [
    "import numpy as np\n",
    "import matplotlib.pyplot as plt\n",
    "import pandas as pd"
   ]
  },
  {
   "cell_type": "markdown",
   "metadata": {},
   "source": [
    "# Importing Dataset"
   ]
  },
  {
   "cell_type": "code",
   "execution_count": 2,
   "metadata": {},
   "outputs": [],
   "source": [
    "dataset = pd.read_csv('Social_Network_Ads.csv')\n",
    "X = dataset.iloc[:, :-1].values\n",
    "y = dataset.iloc[:, -1].values"
   ]
  },
  {
   "cell_type": "code",
   "execution_count": 3,
   "metadata": {},
   "outputs": [
    {
     "data": {
      "text/html": [
       "<div>\n",
       "<style scoped>\n",
       "    .dataframe tbody tr th:only-of-type {\n",
       "        vertical-align: middle;\n",
       "    }\n",
       "\n",
       "    .dataframe tbody tr th {\n",
       "        vertical-align: top;\n",
       "    }\n",
       "\n",
       "    .dataframe thead th {\n",
       "        text-align: right;\n",
       "    }\n",
       "</style>\n",
       "<table border=\"1\" class=\"dataframe\">\n",
       "  <thead>\n",
       "    <tr style=\"text-align: right;\">\n",
       "      <th></th>\n",
       "      <th>Age</th>\n",
       "      <th>EstimatedSalary</th>\n",
       "      <th>Purchased</th>\n",
       "    </tr>\n",
       "  </thead>\n",
       "  <tbody>\n",
       "    <tr>\n",
       "      <td>0</td>\n",
       "      <td>19</td>\n",
       "      <td>19000</td>\n",
       "      <td>0</td>\n",
       "    </tr>\n",
       "    <tr>\n",
       "      <td>1</td>\n",
       "      <td>35</td>\n",
       "      <td>20000</td>\n",
       "      <td>0</td>\n",
       "    </tr>\n",
       "    <tr>\n",
       "      <td>2</td>\n",
       "      <td>26</td>\n",
       "      <td>43000</td>\n",
       "      <td>0</td>\n",
       "    </tr>\n",
       "    <tr>\n",
       "      <td>3</td>\n",
       "      <td>27</td>\n",
       "      <td>57000</td>\n",
       "      <td>0</td>\n",
       "    </tr>\n",
       "    <tr>\n",
       "      <td>4</td>\n",
       "      <td>19</td>\n",
       "      <td>76000</td>\n",
       "      <td>0</td>\n",
       "    </tr>\n",
       "  </tbody>\n",
       "</table>\n",
       "</div>"
      ],
      "text/plain": [
       "   Age  EstimatedSalary  Purchased\n",
       "0   19            19000          0\n",
       "1   35            20000          0\n",
       "2   26            43000          0\n",
       "3   27            57000          0\n",
       "4   19            76000          0"
      ]
     },
     "execution_count": 3,
     "metadata": {},
     "output_type": "execute_result"
    }
   ],
   "source": [
    "dataset.head()"
   ]
  },
  {
   "cell_type": "markdown",
   "metadata": {},
   "source": [
    "# Train and Test split"
   ]
  },
  {
   "cell_type": "code",
   "execution_count": 4,
   "metadata": {},
   "outputs": [],
   "source": [
    "from sklearn.model_selection import train_test_split\n",
    "X_train, X_test, y_train, y_test = train_test_split(X, y, test_size = 0.25, random_state = 0)"
   ]
  },
  {
   "cell_type": "markdown",
   "metadata": {},
   "source": [
    "# Feature Scaling"
   ]
  },
  {
   "cell_type": "code",
   "execution_count": 5,
   "metadata": {},
   "outputs": [],
   "source": [
    "from sklearn.preprocessing import StandardScaler\n",
    "sc = StandardScaler()\n",
    "X_train = sc.fit_transform(X_train)\n",
    "X_test = sc.transform(X_test)"
   ]
  },
  {
   "cell_type": "markdown",
   "metadata": {},
   "source": [
    "# Training and Getting Accuracies"
   ]
  },
  {
   "cell_type": "code",
   "execution_count": 6,
   "metadata": {},
   "outputs": [
    {
     "name": "stdout",
     "output_type": "stream",
     "text": [
      "Accuracy of Decision Tree classifier on training set: 1.00\n",
      "Accuracy of Decision Tree classifier on test set: 0.91\n"
     ]
    }
   ],
   "source": [
    "from sklearn.tree import DecisionTreeClassifier\n",
    "clf = DecisionTreeClassifier().fit(X_train, y_train)\n",
    "\n",
    "print('Accuracy of Decision Tree classifier on training set: {:.2f}'\n",
    "     .format(clf.score(X_train, y_train)))\n",
    "print('Accuracy of Decision Tree classifier on test set: {:.2f}'\n",
    "     .format(clf.score(X_test, y_test)))"
   ]
  },
  {
   "cell_type": "code",
   "execution_count": 7,
   "metadata": {},
   "outputs": [
    {
     "name": "stdout",
     "output_type": "stream",
     "text": [
      "max_depth = 1, min_samples_leaf = 1, Accuracy of Decision Tree classifier on training set: 0.82\n",
      "max_depth = 1, min_samples_leaf = 1, Accuracy of Decision Tree classifier on test set: 0.89\n",
      "max_depth = 1, min_samples_leaf = 2, Accuracy of Decision Tree classifier on training set: 0.82\n",
      "max_depth = 1, min_samples_leaf = 2, Accuracy of Decision Tree classifier on test set: 0.89\n",
      "max_depth = 1, min_samples_leaf = 3, Accuracy of Decision Tree classifier on training set: 0.82\n",
      "max_depth = 1, min_samples_leaf = 3, Accuracy of Decision Tree classifier on test set: 0.89\n",
      "max_depth = 1, min_samples_leaf = 4, Accuracy of Decision Tree classifier on training set: 0.82\n",
      "max_depth = 1, min_samples_leaf = 4, Accuracy of Decision Tree classifier on test set: 0.89\n",
      "max_depth = 1, min_samples_leaf = 5, Accuracy of Decision Tree classifier on training set: 0.82\n",
      "max_depth = 1, min_samples_leaf = 5, Accuracy of Decision Tree classifier on test set: 0.89\n",
      "max_depth = 1, min_samples_leaf = 6, Accuracy of Decision Tree classifier on training set: 0.82\n",
      "max_depth = 1, min_samples_leaf = 6, Accuracy of Decision Tree classifier on test set: 0.89\n",
      "max_depth = 1, min_samples_leaf = 7, Accuracy of Decision Tree classifier on training set: 0.82\n",
      "max_depth = 1, min_samples_leaf = 7, Accuracy of Decision Tree classifier on test set: 0.89\n",
      "max_depth = 1, min_samples_leaf = 8, Accuracy of Decision Tree classifier on training set: 0.82\n",
      "max_depth = 1, min_samples_leaf = 8, Accuracy of Decision Tree classifier on test set: 0.89\n",
      "max_depth = 1, min_samples_leaf = 9, Accuracy of Decision Tree classifier on training set: 0.82\n",
      "max_depth = 1, min_samples_leaf = 9, Accuracy of Decision Tree classifier on test set: 0.89\n",
      "max_depth = 2, min_samples_leaf = 1, Accuracy of Decision Tree classifier on training set: 0.91\n",
      "max_depth = 2, min_samples_leaf = 1, Accuracy of Decision Tree classifier on test set: 0.94\n",
      "max_depth = 2, min_samples_leaf = 2, Accuracy of Decision Tree classifier on training set: 0.91\n",
      "max_depth = 2, min_samples_leaf = 2, Accuracy of Decision Tree classifier on test set: 0.94\n",
      "max_depth = 2, min_samples_leaf = 3, Accuracy of Decision Tree classifier on training set: 0.91\n",
      "max_depth = 2, min_samples_leaf = 3, Accuracy of Decision Tree classifier on test set: 0.94\n",
      "max_depth = 2, min_samples_leaf = 4, Accuracy of Decision Tree classifier on training set: 0.91\n",
      "max_depth = 2, min_samples_leaf = 4, Accuracy of Decision Tree classifier on test set: 0.94\n",
      "max_depth = 2, min_samples_leaf = 5, Accuracy of Decision Tree classifier on training set: 0.91\n",
      "max_depth = 2, min_samples_leaf = 5, Accuracy of Decision Tree classifier on test set: 0.94\n",
      "max_depth = 2, min_samples_leaf = 6, Accuracy of Decision Tree classifier on training set: 0.91\n",
      "max_depth = 2, min_samples_leaf = 6, Accuracy of Decision Tree classifier on test set: 0.94\n",
      "max_depth = 2, min_samples_leaf = 7, Accuracy of Decision Tree classifier on training set: 0.91\n",
      "max_depth = 2, min_samples_leaf = 7, Accuracy of Decision Tree classifier on test set: 0.94\n",
      "max_depth = 2, min_samples_leaf = 8, Accuracy of Decision Tree classifier on training set: 0.91\n",
      "max_depth = 2, min_samples_leaf = 8, Accuracy of Decision Tree classifier on test set: 0.94\n",
      "max_depth = 2, min_samples_leaf = 9, Accuracy of Decision Tree classifier on training set: 0.91\n",
      "max_depth = 2, min_samples_leaf = 9, Accuracy of Decision Tree classifier on test set: 0.94\n",
      "max_depth = 3, min_samples_leaf = 1, Accuracy of Decision Tree classifier on training set: 0.92\n",
      "max_depth = 3, min_samples_leaf = 1, Accuracy of Decision Tree classifier on test set: 0.94\n",
      "max_depth = 3, min_samples_leaf = 2, Accuracy of Decision Tree classifier on training set: 0.91\n",
      "max_depth = 3, min_samples_leaf = 2, Accuracy of Decision Tree classifier on test set: 0.94\n",
      "max_depth = 3, min_samples_leaf = 3, Accuracy of Decision Tree classifier on training set: 0.91\n",
      "max_depth = 3, min_samples_leaf = 3, Accuracy of Decision Tree classifier on test set: 0.94\n",
      "max_depth = 3, min_samples_leaf = 4, Accuracy of Decision Tree classifier on training set: 0.91\n",
      "max_depth = 3, min_samples_leaf = 4, Accuracy of Decision Tree classifier on test set: 0.94\n",
      "max_depth = 3, min_samples_leaf = 5, Accuracy of Decision Tree classifier on training set: 0.91\n",
      "max_depth = 3, min_samples_leaf = 5, Accuracy of Decision Tree classifier on test set: 0.94\n",
      "max_depth = 3, min_samples_leaf = 6, Accuracy of Decision Tree classifier on training set: 0.91\n",
      "max_depth = 3, min_samples_leaf = 6, Accuracy of Decision Tree classifier on test set: 0.94\n",
      "max_depth = 3, min_samples_leaf = 7, Accuracy of Decision Tree classifier on training set: 0.91\n",
      "max_depth = 3, min_samples_leaf = 7, Accuracy of Decision Tree classifier on test set: 0.94\n",
      "max_depth = 3, min_samples_leaf = 8, Accuracy of Decision Tree classifier on training set: 0.91\n",
      "max_depth = 3, min_samples_leaf = 8, Accuracy of Decision Tree classifier on test set: 0.94\n",
      "max_depth = 3, min_samples_leaf = 9, Accuracy of Decision Tree classifier on training set: 0.91\n",
      "max_depth = 3, min_samples_leaf = 9, Accuracy of Decision Tree classifier on test set: 0.94\n",
      "max_depth = 4, min_samples_leaf = 1, Accuracy of Decision Tree classifier on training set: 0.93\n",
      "max_depth = 4, min_samples_leaf = 1, Accuracy of Decision Tree classifier on test set: 0.93\n",
      "max_depth = 4, min_samples_leaf = 2, Accuracy of Decision Tree classifier on training set: 0.93\n",
      "max_depth = 4, min_samples_leaf = 2, Accuracy of Decision Tree classifier on test set: 0.93\n",
      "max_depth = 4, min_samples_leaf = 3, Accuracy of Decision Tree classifier on training set: 0.92\n",
      "max_depth = 4, min_samples_leaf = 3, Accuracy of Decision Tree classifier on test set: 0.94\n",
      "max_depth = 4, min_samples_leaf = 4, Accuracy of Decision Tree classifier on training set: 0.92\n",
      "max_depth = 4, min_samples_leaf = 4, Accuracy of Decision Tree classifier on test set: 0.94\n",
      "max_depth = 4, min_samples_leaf = 5, Accuracy of Decision Tree classifier on training set: 0.91\n",
      "max_depth = 4, min_samples_leaf = 5, Accuracy of Decision Tree classifier on test set: 0.94\n",
      "max_depth = 4, min_samples_leaf = 6, Accuracy of Decision Tree classifier on training set: 0.91\n",
      "max_depth = 4, min_samples_leaf = 6, Accuracy of Decision Tree classifier on test set: 0.94\n",
      "max_depth = 4, min_samples_leaf = 7, Accuracy of Decision Tree classifier on training set: 0.91\n",
      "max_depth = 4, min_samples_leaf = 7, Accuracy of Decision Tree classifier on test set: 0.94\n",
      "max_depth = 4, min_samples_leaf = 8, Accuracy of Decision Tree classifier on training set: 0.91\n",
      "max_depth = 4, min_samples_leaf = 8, Accuracy of Decision Tree classifier on test set: 0.94\n",
      "max_depth = 4, min_samples_leaf = 9, Accuracy of Decision Tree classifier on training set: 0.91\n",
      "max_depth = 4, min_samples_leaf = 9, Accuracy of Decision Tree classifier on test set: 0.94\n",
      "max_depth = 5, min_samples_leaf = 1, Accuracy of Decision Tree classifier on training set: 0.94\n",
      "max_depth = 5, min_samples_leaf = 1, Accuracy of Decision Tree classifier on test set: 0.95\n",
      "max_depth = 5, min_samples_leaf = 2, Accuracy of Decision Tree classifier on training set: 0.93\n",
      "max_depth = 5, min_samples_leaf = 2, Accuracy of Decision Tree classifier on test set: 0.93\n",
      "max_depth = 5, min_samples_leaf = 3, Accuracy of Decision Tree classifier on training set: 0.93\n",
      "max_depth = 5, min_samples_leaf = 3, Accuracy of Decision Tree classifier on test set: 0.94\n",
      "max_depth = 5, min_samples_leaf = 4, Accuracy of Decision Tree classifier on training set: 0.92\n",
      "max_depth = 5, min_samples_leaf = 4, Accuracy of Decision Tree classifier on test set: 0.94\n",
      "max_depth = 5, min_samples_leaf = 5, Accuracy of Decision Tree classifier on training set: 0.92\n",
      "max_depth = 5, min_samples_leaf = 5, Accuracy of Decision Tree classifier on test set: 0.94\n",
      "max_depth = 5, min_samples_leaf = 6, Accuracy of Decision Tree classifier on training set: 0.92\n",
      "max_depth = 5, min_samples_leaf = 6, Accuracy of Decision Tree classifier on test set: 0.94\n",
      "max_depth = 5, min_samples_leaf = 7, Accuracy of Decision Tree classifier on training set: 0.92\n",
      "max_depth = 5, min_samples_leaf = 7, Accuracy of Decision Tree classifier on test set: 0.94\n",
      "max_depth = 5, min_samples_leaf = 8, Accuracy of Decision Tree classifier on training set: 0.91\n",
      "max_depth = 5, min_samples_leaf = 8, Accuracy of Decision Tree classifier on test set: 0.95\n",
      "max_depth = 5, min_samples_leaf = 9, Accuracy of Decision Tree classifier on training set: 0.91\n",
      "max_depth = 5, min_samples_leaf = 9, Accuracy of Decision Tree classifier on test set: 0.94\n",
      "max_depth = 6, min_samples_leaf = 1, Accuracy of Decision Tree classifier on training set: 0.95\n",
      "max_depth = 6, min_samples_leaf = 1, Accuracy of Decision Tree classifier on test set: 0.94\n",
      "max_depth = 6, min_samples_leaf = 2, Accuracy of Decision Tree classifier on training set: 0.94\n",
      "max_depth = 6, min_samples_leaf = 2, Accuracy of Decision Tree classifier on test set: 0.93\n",
      "max_depth = 6, min_samples_leaf = 3, Accuracy of Decision Tree classifier on training set: 0.93\n",
      "max_depth = 6, min_samples_leaf = 3, Accuracy of Decision Tree classifier on test set: 0.95\n",
      "max_depth = 6, min_samples_leaf = 4, Accuracy of Decision Tree classifier on training set: 0.93\n",
      "max_depth = 6, min_samples_leaf = 4, Accuracy of Decision Tree classifier on test set: 0.92\n",
      "max_depth = 6, min_samples_leaf = 5, Accuracy of Decision Tree classifier on training set: 0.92\n",
      "max_depth = 6, min_samples_leaf = 5, Accuracy of Decision Tree classifier on test set: 0.93\n",
      "max_depth = 6, min_samples_leaf = 6, Accuracy of Decision Tree classifier on training set: 0.92\n",
      "max_depth = 6, min_samples_leaf = 6, Accuracy of Decision Tree classifier on test set: 0.94\n",
      "max_depth = 6, min_samples_leaf = 7, Accuracy of Decision Tree classifier on training set: 0.92\n",
      "max_depth = 6, min_samples_leaf = 7, Accuracy of Decision Tree classifier on test set: 0.94\n",
      "max_depth = 6, min_samples_leaf = 8, Accuracy of Decision Tree classifier on training set: 0.91\n",
      "max_depth = 6, min_samples_leaf = 8, Accuracy of Decision Tree classifier on test set: 0.95\n",
      "max_depth = 6, min_samples_leaf = 9, Accuracy of Decision Tree classifier on training set: 0.91\n",
      "max_depth = 6, min_samples_leaf = 9, Accuracy of Decision Tree classifier on test set: 0.94\n",
      "max_depth = 7, min_samples_leaf = 1, Accuracy of Decision Tree classifier on training set: 0.96\n",
      "max_depth = 7, min_samples_leaf = 1, Accuracy of Decision Tree classifier on test set: 0.93\n",
      "max_depth = 7, min_samples_leaf = 2, Accuracy of Decision Tree classifier on training set: 0.94\n",
      "max_depth = 7, min_samples_leaf = 2, Accuracy of Decision Tree classifier on test set: 0.94\n",
      "max_depth = 7, min_samples_leaf = 3, Accuracy of Decision Tree classifier on training set: 0.93\n",
      "max_depth = 7, min_samples_leaf = 3, Accuracy of Decision Tree classifier on test set: 0.93\n",
      "max_depth = 7, min_samples_leaf = 4, Accuracy of Decision Tree classifier on training set: 0.93\n",
      "max_depth = 7, min_samples_leaf = 4, Accuracy of Decision Tree classifier on test set: 0.92\n",
      "max_depth = 7, min_samples_leaf = 5, Accuracy of Decision Tree classifier on training set: 0.92\n",
      "max_depth = 7, min_samples_leaf = 5, Accuracy of Decision Tree classifier on test set: 0.93\n",
      "max_depth = 7, min_samples_leaf = 6, Accuracy of Decision Tree classifier on training set: 0.92\n",
      "max_depth = 7, min_samples_leaf = 6, Accuracy of Decision Tree classifier on test set: 0.94\n",
      "max_depth = 7, min_samples_leaf = 7, Accuracy of Decision Tree classifier on training set: 0.92\n",
      "max_depth = 7, min_samples_leaf = 7, Accuracy of Decision Tree classifier on test set: 0.94\n",
      "max_depth = 7, min_samples_leaf = 8, Accuracy of Decision Tree classifier on training set: 0.91\n",
      "max_depth = 7, min_samples_leaf = 8, Accuracy of Decision Tree classifier on test set: 0.95\n",
      "max_depth = 7, min_samples_leaf = 9, Accuracy of Decision Tree classifier on training set: 0.91\n",
      "max_depth = 7, min_samples_leaf = 9, Accuracy of Decision Tree classifier on test set: 0.94\n",
      "max_depth = 8, min_samples_leaf = 1, Accuracy of Decision Tree classifier on training set: 0.97\n",
      "max_depth = 8, min_samples_leaf = 1, Accuracy of Decision Tree classifier on test set: 0.93\n",
      "max_depth = 8, min_samples_leaf = 2, Accuracy of Decision Tree classifier on training set: 0.94\n",
      "max_depth = 8, min_samples_leaf = 2, Accuracy of Decision Tree classifier on test set: 0.93\n",
      "max_depth = 8, min_samples_leaf = 3, Accuracy of Decision Tree classifier on training set: 0.93\n",
      "max_depth = 8, min_samples_leaf = 3, Accuracy of Decision Tree classifier on test set: 0.93\n",
      "max_depth = 8, min_samples_leaf = 4, Accuracy of Decision Tree classifier on training set: 0.93\n",
      "max_depth = 8, min_samples_leaf = 4, Accuracy of Decision Tree classifier on test set: 0.92\n",
      "max_depth = 8, min_samples_leaf = 5, Accuracy of Decision Tree classifier on training set: 0.92\n",
      "max_depth = 8, min_samples_leaf = 5, Accuracy of Decision Tree classifier on test set: 0.93\n",
      "max_depth = 8, min_samples_leaf = 6, Accuracy of Decision Tree classifier on training set: 0.92\n",
      "max_depth = 8, min_samples_leaf = 6, Accuracy of Decision Tree classifier on test set: 0.94\n",
      "max_depth = 8, min_samples_leaf = 7, Accuracy of Decision Tree classifier on training set: 0.92\n",
      "max_depth = 8, min_samples_leaf = 7, Accuracy of Decision Tree classifier on test set: 0.94\n",
      "max_depth = 8, min_samples_leaf = 8, Accuracy of Decision Tree classifier on training set: 0.91\n",
      "max_depth = 8, min_samples_leaf = 8, Accuracy of Decision Tree classifier on test set: 0.95\n",
      "max_depth = 8, min_samples_leaf = 9, Accuracy of Decision Tree classifier on training set: 0.91\n",
      "max_depth = 8, min_samples_leaf = 9, Accuracy of Decision Tree classifier on test set: 0.94\n",
      "max_depth = 9, min_samples_leaf = 1, Accuracy of Decision Tree classifier on training set: 0.98\n",
      "max_depth = 9, min_samples_leaf = 1, Accuracy of Decision Tree classifier on test set: 0.93\n",
      "max_depth = 9, min_samples_leaf = 2, Accuracy of Decision Tree classifier on training set: 0.95\n",
      "max_depth = 9, min_samples_leaf = 2, Accuracy of Decision Tree classifier on test set: 0.91\n",
      "max_depth = 9, min_samples_leaf = 3, Accuracy of Decision Tree classifier on training set: 0.93\n",
      "max_depth = 9, min_samples_leaf = 3, Accuracy of Decision Tree classifier on test set: 0.93\n",
      "max_depth = 9, min_samples_leaf = 4, Accuracy of Decision Tree classifier on training set: 0.93\n",
      "max_depth = 9, min_samples_leaf = 4, Accuracy of Decision Tree classifier on test set: 0.92\n",
      "max_depth = 9, min_samples_leaf = 5, Accuracy of Decision Tree classifier on training set: 0.92\n",
      "max_depth = 9, min_samples_leaf = 5, Accuracy of Decision Tree classifier on test set: 0.93\n",
      "max_depth = 9, min_samples_leaf = 6, Accuracy of Decision Tree classifier on training set: 0.92\n",
      "max_depth = 9, min_samples_leaf = 6, Accuracy of Decision Tree classifier on test set: 0.94\n",
      "max_depth = 9, min_samples_leaf = 7, Accuracy of Decision Tree classifier on training set: 0.92\n",
      "max_depth = 9, min_samples_leaf = 7, Accuracy of Decision Tree classifier on test set: 0.94\n"
     ]
    },
    {
     "name": "stdout",
     "output_type": "stream",
     "text": [
      "max_depth = 9, min_samples_leaf = 8, Accuracy of Decision Tree classifier on training set: 0.91\n",
      "max_depth = 9, min_samples_leaf = 8, Accuracy of Decision Tree classifier on test set: 0.95\n",
      "max_depth = 9, min_samples_leaf = 9, Accuracy of Decision Tree classifier on training set: 0.91\n",
      "max_depth = 9, min_samples_leaf = 9, Accuracy of Decision Tree classifier on test set: 0.94\n"
     ]
    }
   ],
   "source": [
    "for i in range(1,10):\n",
    "    for j in range(1,10):\n",
    "        clf3 = DecisionTreeClassifier(criterion = 'gini',max_depth = i, min_samples_leaf = j, random_state = 0).fit(X_train, y_train)\n",
    "        print('max_depth = {:.0f}, min_samples_leaf = {:.0f}, Accuracy of Decision Tree classifier on training set: {:.2f}'\n",
    "             .format(i, j, clf3.score(X_train, y_train)))\n",
    "        print('max_depth = {:.0f}, min_samples_leaf = {:.0f}, Accuracy of Decision Tree classifier on test set: {:.2f}'\n",
    "             .format(i, j, clf3.score(X_test, y_test)))"
   ]
  },
  {
   "cell_type": "code",
   "execution_count": 8,
   "metadata": {},
   "outputs": [
    {
     "name": "stdout",
     "output_type": "stream",
     "text": [
      "max_depth = 1, min_samples_leaf = 1, Accuracy of Decision Tree classifier on training set: 0.82\n",
      "max_depth = 1, min_samples_leaf = 1, Accuracy of Decision Tree classifier on test set: 0.89\n",
      "max_depth = 1, min_samples_leaf = 2, Accuracy of Decision Tree classifier on training set: 0.82\n",
      "max_depth = 1, min_samples_leaf = 2, Accuracy of Decision Tree classifier on test set: 0.89\n",
      "max_depth = 1, min_samples_leaf = 3, Accuracy of Decision Tree classifier on training set: 0.82\n",
      "max_depth = 1, min_samples_leaf = 3, Accuracy of Decision Tree classifier on test set: 0.89\n",
      "max_depth = 1, min_samples_leaf = 4, Accuracy of Decision Tree classifier on training set: 0.82\n",
      "max_depth = 1, min_samples_leaf = 4, Accuracy of Decision Tree classifier on test set: 0.89\n",
      "max_depth = 1, min_samples_leaf = 5, Accuracy of Decision Tree classifier on training set: 0.82\n",
      "max_depth = 1, min_samples_leaf = 5, Accuracy of Decision Tree classifier on test set: 0.89\n",
      "max_depth = 1, min_samples_leaf = 6, Accuracy of Decision Tree classifier on training set: 0.82\n",
      "max_depth = 1, min_samples_leaf = 6, Accuracy of Decision Tree classifier on test set: 0.89\n",
      "max_depth = 1, min_samples_leaf = 7, Accuracy of Decision Tree classifier on training set: 0.82\n",
      "max_depth = 1, min_samples_leaf = 7, Accuracy of Decision Tree classifier on test set: 0.89\n",
      "max_depth = 1, min_samples_leaf = 8, Accuracy of Decision Tree classifier on training set: 0.82\n",
      "max_depth = 1, min_samples_leaf = 8, Accuracy of Decision Tree classifier on test set: 0.89\n",
      "max_depth = 1, min_samples_leaf = 9, Accuracy of Decision Tree classifier on training set: 0.82\n",
      "max_depth = 1, min_samples_leaf = 9, Accuracy of Decision Tree classifier on test set: 0.89\n",
      "max_depth = 2, min_samples_leaf = 1, Accuracy of Decision Tree classifier on training set: 0.91\n",
      "max_depth = 2, min_samples_leaf = 1, Accuracy of Decision Tree classifier on test set: 0.94\n",
      "max_depth = 2, min_samples_leaf = 2, Accuracy of Decision Tree classifier on training set: 0.91\n",
      "max_depth = 2, min_samples_leaf = 2, Accuracy of Decision Tree classifier on test set: 0.94\n",
      "max_depth = 2, min_samples_leaf = 3, Accuracy of Decision Tree classifier on training set: 0.91\n",
      "max_depth = 2, min_samples_leaf = 3, Accuracy of Decision Tree classifier on test set: 0.94\n",
      "max_depth = 2, min_samples_leaf = 4, Accuracy of Decision Tree classifier on training set: 0.91\n",
      "max_depth = 2, min_samples_leaf = 4, Accuracy of Decision Tree classifier on test set: 0.94\n",
      "max_depth = 2, min_samples_leaf = 5, Accuracy of Decision Tree classifier on training set: 0.91\n",
      "max_depth = 2, min_samples_leaf = 5, Accuracy of Decision Tree classifier on test set: 0.94\n",
      "max_depth = 2, min_samples_leaf = 6, Accuracy of Decision Tree classifier on training set: 0.91\n",
      "max_depth = 2, min_samples_leaf = 6, Accuracy of Decision Tree classifier on test set: 0.94\n",
      "max_depth = 2, min_samples_leaf = 7, Accuracy of Decision Tree classifier on training set: 0.91\n",
      "max_depth = 2, min_samples_leaf = 7, Accuracy of Decision Tree classifier on test set: 0.94\n",
      "max_depth = 2, min_samples_leaf = 8, Accuracy of Decision Tree classifier on training set: 0.91\n",
      "max_depth = 2, min_samples_leaf = 8, Accuracy of Decision Tree classifier on test set: 0.94\n",
      "max_depth = 2, min_samples_leaf = 9, Accuracy of Decision Tree classifier on training set: 0.91\n",
      "max_depth = 2, min_samples_leaf = 9, Accuracy of Decision Tree classifier on test set: 0.94\n",
      "max_depth = 3, min_samples_leaf = 1, Accuracy of Decision Tree classifier on training set: 0.91\n",
      "max_depth = 3, min_samples_leaf = 1, Accuracy of Decision Tree classifier on test set: 0.94\n",
      "max_depth = 3, min_samples_leaf = 2, Accuracy of Decision Tree classifier on training set: 0.91\n",
      "max_depth = 3, min_samples_leaf = 2, Accuracy of Decision Tree classifier on test set: 0.94\n",
      "max_depth = 3, min_samples_leaf = 3, Accuracy of Decision Tree classifier on training set: 0.91\n",
      "max_depth = 3, min_samples_leaf = 3, Accuracy of Decision Tree classifier on test set: 0.94\n",
      "max_depth = 3, min_samples_leaf = 4, Accuracy of Decision Tree classifier on training set: 0.91\n",
      "max_depth = 3, min_samples_leaf = 4, Accuracy of Decision Tree classifier on test set: 0.94\n",
      "max_depth = 3, min_samples_leaf = 5, Accuracy of Decision Tree classifier on training set: 0.91\n",
      "max_depth = 3, min_samples_leaf = 5, Accuracy of Decision Tree classifier on test set: 0.94\n",
      "max_depth = 3, min_samples_leaf = 6, Accuracy of Decision Tree classifier on training set: 0.91\n",
      "max_depth = 3, min_samples_leaf = 6, Accuracy of Decision Tree classifier on test set: 0.94\n",
      "max_depth = 3, min_samples_leaf = 7, Accuracy of Decision Tree classifier on training set: 0.91\n",
      "max_depth = 3, min_samples_leaf = 7, Accuracy of Decision Tree classifier on test set: 0.94\n",
      "max_depth = 3, min_samples_leaf = 8, Accuracy of Decision Tree classifier on training set: 0.91\n",
      "max_depth = 3, min_samples_leaf = 8, Accuracy of Decision Tree classifier on test set: 0.94\n",
      "max_depth = 3, min_samples_leaf = 9, Accuracy of Decision Tree classifier on training set: 0.91\n",
      "max_depth = 3, min_samples_leaf = 9, Accuracy of Decision Tree classifier on test set: 0.94\n",
      "max_depth = 4, min_samples_leaf = 1, Accuracy of Decision Tree classifier on training set: 0.92\n",
      "max_depth = 4, min_samples_leaf = 1, Accuracy of Decision Tree classifier on test set: 0.93\n",
      "max_depth = 4, min_samples_leaf = 2, Accuracy of Decision Tree classifier on training set: 0.92\n",
      "max_depth = 4, min_samples_leaf = 2, Accuracy of Decision Tree classifier on test set: 0.93\n",
      "max_depth = 4, min_samples_leaf = 3, Accuracy of Decision Tree classifier on training set: 0.92\n",
      "max_depth = 4, min_samples_leaf = 3, Accuracy of Decision Tree classifier on test set: 0.95\n",
      "max_depth = 4, min_samples_leaf = 4, Accuracy of Decision Tree classifier on training set: 0.92\n",
      "max_depth = 4, min_samples_leaf = 4, Accuracy of Decision Tree classifier on test set: 0.95\n",
      "max_depth = 4, min_samples_leaf = 5, Accuracy of Decision Tree classifier on training set: 0.92\n",
      "max_depth = 4, min_samples_leaf = 5, Accuracy of Decision Tree classifier on test set: 0.95\n",
      "max_depth = 4, min_samples_leaf = 6, Accuracy of Decision Tree classifier on training set: 0.92\n",
      "max_depth = 4, min_samples_leaf = 6, Accuracy of Decision Tree classifier on test set: 0.95\n",
      "max_depth = 4, min_samples_leaf = 7, Accuracy of Decision Tree classifier on training set: 0.92\n",
      "max_depth = 4, min_samples_leaf = 7, Accuracy of Decision Tree classifier on test set: 0.95\n",
      "max_depth = 4, min_samples_leaf = 8, Accuracy of Decision Tree classifier on training set: 0.92\n",
      "max_depth = 4, min_samples_leaf = 8, Accuracy of Decision Tree classifier on test set: 0.95\n",
      "max_depth = 4, min_samples_leaf = 9, Accuracy of Decision Tree classifier on training set: 0.92\n",
      "max_depth = 4, min_samples_leaf = 9, Accuracy of Decision Tree classifier on test set: 0.95\n",
      "max_depth = 5, min_samples_leaf = 1, Accuracy of Decision Tree classifier on training set: 0.94\n",
      "max_depth = 5, min_samples_leaf = 1, Accuracy of Decision Tree classifier on test set: 0.94\n",
      "max_depth = 5, min_samples_leaf = 2, Accuracy of Decision Tree classifier on training set: 0.93\n",
      "max_depth = 5, min_samples_leaf = 2, Accuracy of Decision Tree classifier on test set: 0.92\n",
      "max_depth = 5, min_samples_leaf = 3, Accuracy of Decision Tree classifier on training set: 0.92\n",
      "max_depth = 5, min_samples_leaf = 3, Accuracy of Decision Tree classifier on test set: 0.94\n",
      "max_depth = 5, min_samples_leaf = 4, Accuracy of Decision Tree classifier on training set: 0.93\n",
      "max_depth = 5, min_samples_leaf = 4, Accuracy of Decision Tree classifier on test set: 0.94\n",
      "max_depth = 5, min_samples_leaf = 5, Accuracy of Decision Tree classifier on training set: 0.93\n",
      "max_depth = 5, min_samples_leaf = 5, Accuracy of Decision Tree classifier on test set: 0.94\n",
      "max_depth = 5, min_samples_leaf = 6, Accuracy of Decision Tree classifier on training set: 0.93\n",
      "max_depth = 5, min_samples_leaf = 6, Accuracy of Decision Tree classifier on test set: 0.94\n",
      "max_depth = 5, min_samples_leaf = 7, Accuracy of Decision Tree classifier on training set: 0.92\n",
      "max_depth = 5, min_samples_leaf = 7, Accuracy of Decision Tree classifier on test set: 0.94\n",
      "max_depth = 5, min_samples_leaf = 8, Accuracy of Decision Tree classifier on training set: 0.92\n",
      "max_depth = 5, min_samples_leaf = 8, Accuracy of Decision Tree classifier on test set: 0.96\n",
      "max_depth = 5, min_samples_leaf = 9, Accuracy of Decision Tree classifier on training set: 0.92\n",
      "max_depth = 5, min_samples_leaf = 9, Accuracy of Decision Tree classifier on test set: 0.95\n",
      "max_depth = 6, min_samples_leaf = 1, Accuracy of Decision Tree classifier on training set: 0.95\n",
      "max_depth = 6, min_samples_leaf = 1, Accuracy of Decision Tree classifier on test set: 0.91\n",
      "max_depth = 6, min_samples_leaf = 2, Accuracy of Decision Tree classifier on training set: 0.94\n",
      "max_depth = 6, min_samples_leaf = 2, Accuracy of Decision Tree classifier on test set: 0.90\n",
      "max_depth = 6, min_samples_leaf = 3, Accuracy of Decision Tree classifier on training set: 0.93\n",
      "max_depth = 6, min_samples_leaf = 3, Accuracy of Decision Tree classifier on test set: 0.93\n",
      "max_depth = 6, min_samples_leaf = 4, Accuracy of Decision Tree classifier on training set: 0.93\n",
      "max_depth = 6, min_samples_leaf = 4, Accuracy of Decision Tree classifier on test set: 0.92\n",
      "max_depth = 6, min_samples_leaf = 5, Accuracy of Decision Tree classifier on training set: 0.93\n",
      "max_depth = 6, min_samples_leaf = 5, Accuracy of Decision Tree classifier on test set: 0.94\n",
      "max_depth = 6, min_samples_leaf = 6, Accuracy of Decision Tree classifier on training set: 0.93\n",
      "max_depth = 6, min_samples_leaf = 6, Accuracy of Decision Tree classifier on test set: 0.94\n",
      "max_depth = 6, min_samples_leaf = 7, Accuracy of Decision Tree classifier on training set: 0.92\n",
      "max_depth = 6, min_samples_leaf = 7, Accuracy of Decision Tree classifier on test set: 0.94\n",
      "max_depth = 6, min_samples_leaf = 8, Accuracy of Decision Tree classifier on training set: 0.92\n",
      "max_depth = 6, min_samples_leaf = 8, Accuracy of Decision Tree classifier on test set: 0.96\n",
      "max_depth = 6, min_samples_leaf = 9, Accuracy of Decision Tree classifier on training set: 0.92\n",
      "max_depth = 6, min_samples_leaf = 9, Accuracy of Decision Tree classifier on test set: 0.95\n",
      "max_depth = 7, min_samples_leaf = 1, Accuracy of Decision Tree classifier on training set: 0.96\n",
      "max_depth = 7, min_samples_leaf = 1, Accuracy of Decision Tree classifier on test set: 0.93\n",
      "max_depth = 7, min_samples_leaf = 2, Accuracy of Decision Tree classifier on training set: 0.94\n",
      "max_depth = 7, min_samples_leaf = 2, Accuracy of Decision Tree classifier on test set: 0.92\n",
      "max_depth = 7, min_samples_leaf = 3, Accuracy of Decision Tree classifier on training set: 0.93\n",
      "max_depth = 7, min_samples_leaf = 3, Accuracy of Decision Tree classifier on test set: 0.93\n",
      "max_depth = 7, min_samples_leaf = 4, Accuracy of Decision Tree classifier on training set: 0.93\n",
      "max_depth = 7, min_samples_leaf = 4, Accuracy of Decision Tree classifier on test set: 0.92\n",
      "max_depth = 7, min_samples_leaf = 5, Accuracy of Decision Tree classifier on training set: 0.93\n",
      "max_depth = 7, min_samples_leaf = 5, Accuracy of Decision Tree classifier on test set: 0.94\n",
      "max_depth = 7, min_samples_leaf = 6, Accuracy of Decision Tree classifier on training set: 0.93\n",
      "max_depth = 7, min_samples_leaf = 6, Accuracy of Decision Tree classifier on test set: 0.94\n"
     ]
    },
    {
     "name": "stdout",
     "output_type": "stream",
     "text": [
      "max_depth = 7, min_samples_leaf = 7, Accuracy of Decision Tree classifier on training set: 0.92\n",
      "max_depth = 7, min_samples_leaf = 7, Accuracy of Decision Tree classifier on test set: 0.94\n",
      "max_depth = 7, min_samples_leaf = 8, Accuracy of Decision Tree classifier on training set: 0.92\n",
      "max_depth = 7, min_samples_leaf = 8, Accuracy of Decision Tree classifier on test set: 0.96\n",
      "max_depth = 7, min_samples_leaf = 9, Accuracy of Decision Tree classifier on training set: 0.92\n",
      "max_depth = 7, min_samples_leaf = 9, Accuracy of Decision Tree classifier on test set: 0.95\n",
      "max_depth = 8, min_samples_leaf = 1, Accuracy of Decision Tree classifier on training set: 0.97\n",
      "max_depth = 8, min_samples_leaf = 1, Accuracy of Decision Tree classifier on test set: 0.94\n",
      "max_depth = 8, min_samples_leaf = 2, Accuracy of Decision Tree classifier on training set: 0.94\n",
      "max_depth = 8, min_samples_leaf = 2, Accuracy of Decision Tree classifier on test set: 0.92\n",
      "max_depth = 8, min_samples_leaf = 3, Accuracy of Decision Tree classifier on training set: 0.93\n",
      "max_depth = 8, min_samples_leaf = 3, Accuracy of Decision Tree classifier on test set: 0.93\n",
      "max_depth = 8, min_samples_leaf = 4, Accuracy of Decision Tree classifier on training set: 0.93\n",
      "max_depth = 8, min_samples_leaf = 4, Accuracy of Decision Tree classifier on test set: 0.92\n",
      "max_depth = 8, min_samples_leaf = 5, Accuracy of Decision Tree classifier on training set: 0.93\n",
      "max_depth = 8, min_samples_leaf = 5, Accuracy of Decision Tree classifier on test set: 0.94\n",
      "max_depth = 8, min_samples_leaf = 6, Accuracy of Decision Tree classifier on training set: 0.93\n",
      "max_depth = 8, min_samples_leaf = 6, Accuracy of Decision Tree classifier on test set: 0.94\n",
      "max_depth = 8, min_samples_leaf = 7, Accuracy of Decision Tree classifier on training set: 0.92\n",
      "max_depth = 8, min_samples_leaf = 7, Accuracy of Decision Tree classifier on test set: 0.94\n",
      "max_depth = 8, min_samples_leaf = 8, Accuracy of Decision Tree classifier on training set: 0.92\n",
      "max_depth = 8, min_samples_leaf = 8, Accuracy of Decision Tree classifier on test set: 0.96\n",
      "max_depth = 8, min_samples_leaf = 9, Accuracy of Decision Tree classifier on training set: 0.92\n",
      "max_depth = 8, min_samples_leaf = 9, Accuracy of Decision Tree classifier on test set: 0.95\n",
      "max_depth = 9, min_samples_leaf = 1, Accuracy of Decision Tree classifier on training set: 0.98\n",
      "max_depth = 9, min_samples_leaf = 1, Accuracy of Decision Tree classifier on test set: 0.93\n",
      "max_depth = 9, min_samples_leaf = 2, Accuracy of Decision Tree classifier on training set: 0.94\n",
      "max_depth = 9, min_samples_leaf = 2, Accuracy of Decision Tree classifier on test set: 0.91\n",
      "max_depth = 9, min_samples_leaf = 3, Accuracy of Decision Tree classifier on training set: 0.93\n",
      "max_depth = 9, min_samples_leaf = 3, Accuracy of Decision Tree classifier on test set: 0.93\n",
      "max_depth = 9, min_samples_leaf = 4, Accuracy of Decision Tree classifier on training set: 0.93\n",
      "max_depth = 9, min_samples_leaf = 4, Accuracy of Decision Tree classifier on test set: 0.92\n",
      "max_depth = 9, min_samples_leaf = 5, Accuracy of Decision Tree classifier on training set: 0.93\n",
      "max_depth = 9, min_samples_leaf = 5, Accuracy of Decision Tree classifier on test set: 0.94\n",
      "max_depth = 9, min_samples_leaf = 6, Accuracy of Decision Tree classifier on training set: 0.93\n",
      "max_depth = 9, min_samples_leaf = 6, Accuracy of Decision Tree classifier on test set: 0.94\n",
      "max_depth = 9, min_samples_leaf = 7, Accuracy of Decision Tree classifier on training set: 0.92\n",
      "max_depth = 9, min_samples_leaf = 7, Accuracy of Decision Tree classifier on test set: 0.94\n",
      "max_depth = 9, min_samples_leaf = 8, Accuracy of Decision Tree classifier on training set: 0.92\n",
      "max_depth = 9, min_samples_leaf = 8, Accuracy of Decision Tree classifier on test set: 0.96\n",
      "max_depth = 9, min_samples_leaf = 9, Accuracy of Decision Tree classifier on training set: 0.92\n",
      "max_depth = 9, min_samples_leaf = 9, Accuracy of Decision Tree classifier on test set: 0.95\n"
     ]
    }
   ],
   "source": [
    "for i in range(1,10):\n",
    "    for j in range(1,10):\n",
    "        clf3 = DecisionTreeClassifier(criterion = 'entropy', max_depth = i, min_samples_leaf = j, random_state = 0).fit(X_train, y_train)\n",
    "        print('max_depth = {:.0f}, min_samples_leaf = {:.0f}, Accuracy of Decision Tree classifier on training set: {:.2f}'\n",
    "             .format(i, j, clf3.score(X_train, y_train)))\n",
    "        print('max_depth = {:.0f}, min_samples_leaf = {:.0f}, Accuracy of Decision Tree classifier on test set: {:.2f}'\n",
    "             .format(i, j, clf3.score(X_test, y_test)))"
   ]
  },
  {
   "cell_type": "code",
   "execution_count": 9,
   "metadata": {},
   "outputs": [
    {
     "name": "stdout",
     "output_type": "stream",
     "text": [
      "max_depth = 7, min_samples_leaf = 8, Accuracy of Decision Tree classifier on training set: 0.92\n",
      "max_depth = 7, min_samples_leaf = 8, Accuracy of Decision Tree classifier on test set: 0.96\n"
     ]
    }
   ],
   "source": [
    "clf4 = DecisionTreeClassifier(criterion = 'entropy',max_depth = 7, min_samples_leaf = 8, random_state = 0).fit(X_train, y_train)\n",
    "print('max_depth = {:.0f}, min_samples_leaf = {:.0f}, Accuracy of Decision Tree classifier on training set: {:.2f}'\n",
    "             .format(7, 8, clf4.score(X_train, y_train)))\n",
    "print('max_depth = {:.0f}, min_samples_leaf = {:.0f}, Accuracy of Decision Tree classifier on test set: {:.2f}'\n",
    "             .format(7, 8, clf4.score(X_test, y_test)))"
   ]
  },
  {
   "cell_type": "code",
   "execution_count": 10,
   "metadata": {},
   "outputs": [
    {
     "name": "stdout",
     "output_type": "stream",
     "text": [
      "[[67  1]\n",
      " [ 3 29]]\n"
     ]
    }
   ],
   "source": [
    "y_pred = clf4.predict(X_test)\n",
    "from sklearn.metrics import confusion_matrix, accuracy_score\n",
    "cm = confusion_matrix(y_test, y_pred)\n",
    "print(cm)"
   ]
  },
  {
   "cell_type": "code",
   "execution_count": 11,
   "metadata": {},
   "outputs": [
    {
     "name": "stdout",
     "output_type": "stream",
     "text": [
      "[0]\n"
     ]
    }
   ],
   "source": [
    "print(clf4.predict(sc.transform([[30,87000]])))"
   ]
  },
  {
   "cell_type": "code",
   "execution_count": null,
   "metadata": {},
   "outputs": [],
   "source": []
  }
 ],
 "metadata": {
  "kernelspec": {
   "display_name": "Python 3",
   "language": "python",
   "name": "python3"
  },
  "language_info": {
   "codemirror_mode": {
    "name": "ipython",
    "version": 3
   },
   "file_extension": ".py",
   "mimetype": "text/x-python",
   "name": "python",
   "nbconvert_exporter": "python",
   "pygments_lexer": "ipython3",
   "version": "3.7.4"
  }
 },
 "nbformat": 4,
 "nbformat_minor": 2
}
