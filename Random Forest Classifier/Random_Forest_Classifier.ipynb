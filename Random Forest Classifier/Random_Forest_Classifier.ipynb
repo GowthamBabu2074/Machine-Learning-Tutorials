{
 "cells": [
  {
   "cell_type": "markdown",
   "metadata": {},
   "source": [
    "# Importing Libraries"
   ]
  },
  {
   "cell_type": "code",
   "execution_count": 1,
   "metadata": {},
   "outputs": [],
   "source": [
    "import numpy as np\n",
    "import matplotlib.pyplot as plt\n",
    "import pandas as pd"
   ]
  },
  {
   "cell_type": "markdown",
   "metadata": {},
   "source": [
    "# Importing Dataset"
   ]
  },
  {
   "cell_type": "code",
   "execution_count": 2,
   "metadata": {},
   "outputs": [],
   "source": [
    "dataset = pd.read_csv('Social_Network_Ads.csv')\n",
    "X = dataset.iloc[:, :-1].values\n",
    "y = dataset.iloc[:, -1].values"
   ]
  },
  {
   "cell_type": "code",
   "execution_count": 3,
   "metadata": {},
   "outputs": [
    {
     "data": {
      "text/html": [
       "<div>\n",
       "<style scoped>\n",
       "    .dataframe tbody tr th:only-of-type {\n",
       "        vertical-align: middle;\n",
       "    }\n",
       "\n",
       "    .dataframe tbody tr th {\n",
       "        vertical-align: top;\n",
       "    }\n",
       "\n",
       "    .dataframe thead th {\n",
       "        text-align: right;\n",
       "    }\n",
       "</style>\n",
       "<table border=\"1\" class=\"dataframe\">\n",
       "  <thead>\n",
       "    <tr style=\"text-align: right;\">\n",
       "      <th></th>\n",
       "      <th>Age</th>\n",
       "      <th>EstimatedSalary</th>\n",
       "      <th>Purchased</th>\n",
       "    </tr>\n",
       "  </thead>\n",
       "  <tbody>\n",
       "    <tr>\n",
       "      <td>0</td>\n",
       "      <td>19</td>\n",
       "      <td>19000</td>\n",
       "      <td>0</td>\n",
       "    </tr>\n",
       "    <tr>\n",
       "      <td>1</td>\n",
       "      <td>35</td>\n",
       "      <td>20000</td>\n",
       "      <td>0</td>\n",
       "    </tr>\n",
       "    <tr>\n",
       "      <td>2</td>\n",
       "      <td>26</td>\n",
       "      <td>43000</td>\n",
       "      <td>0</td>\n",
       "    </tr>\n",
       "    <tr>\n",
       "      <td>3</td>\n",
       "      <td>27</td>\n",
       "      <td>57000</td>\n",
       "      <td>0</td>\n",
       "    </tr>\n",
       "    <tr>\n",
       "      <td>4</td>\n",
       "      <td>19</td>\n",
       "      <td>76000</td>\n",
       "      <td>0</td>\n",
       "    </tr>\n",
       "  </tbody>\n",
       "</table>\n",
       "</div>"
      ],
      "text/plain": [
       "   Age  EstimatedSalary  Purchased\n",
       "0   19            19000          0\n",
       "1   35            20000          0\n",
       "2   26            43000          0\n",
       "3   27            57000          0\n",
       "4   19            76000          0"
      ]
     },
     "execution_count": 3,
     "metadata": {},
     "output_type": "execute_result"
    }
   ],
   "source": [
    "dataset.head()"
   ]
  },
  {
   "cell_type": "markdown",
   "metadata": {},
   "source": [
    "# Train and Test split"
   ]
  },
  {
   "cell_type": "code",
   "execution_count": 4,
   "metadata": {},
   "outputs": [],
   "source": [
    "from sklearn.model_selection import train_test_split\n",
    "X_train, X_test, y_train, y_test = train_test_split(X, y, test_size = 0.25, random_state = 0)"
   ]
  },
  {
   "cell_type": "markdown",
   "metadata": {},
   "source": [
    "# Feature Scaling"
   ]
  },
  {
   "cell_type": "code",
   "execution_count": 5,
   "metadata": {},
   "outputs": [],
   "source": [
    "from sklearn.preprocessing import StandardScaler\n",
    "sc = StandardScaler()\n",
    "X_train = sc.fit_transform(X_train)\n",
    "X_test = sc.transform(X_test)"
   ]
  },
  {
   "cell_type": "markdown",
   "metadata": {},
   "source": [
    "# Training and Getting Accuracies"
   ]
  },
  {
   "cell_type": "code",
   "execution_count": 6,
   "metadata": {},
   "outputs": [
    {
     "name": "stdout",
     "output_type": "stream",
     "text": [
      "Accuracy of RF classifier on training set: 0.98\n",
      "Accuracy of RF classifier on test set: 0.91\n"
     ]
    }
   ],
   "source": [
    "from sklearn.ensemble import RandomForestClassifier\n",
    "classifier = RandomForestClassifier(n_estimators = 10, criterion = 'entropy', random_state = 0)\n",
    "classifier.fit(X_train, y_train)\n",
    "print('Accuracy of RF classifier on training set: {:.2f}'\n",
    "     .format(classifier.score(X_train, y_train)))\n",
    "print('Accuracy of RF classifier on test set: {:.2f}'\n",
    "     .format(classifier.score(X_test, y_test)))"
   ]
  },
  {
   "cell_type": "code",
   "execution_count": 7,
   "metadata": {},
   "outputs": [
    {
     "name": "stdout",
     "output_type": "stream",
     "text": [
      "Accuracy of RF classifier on training set: 0.98\n",
      "Accuracy of RF classifier on test set: 0.92\n"
     ]
    }
   ],
   "source": [
    "from sklearn.ensemble import RandomForestClassifier\n",
    "classifier = RandomForestClassifier(n_estimators = 10, criterion = 'gini', random_state = 0)\n",
    "classifier.fit(X_train, y_train)\n",
    "print('Accuracy of RF classifier on training set: {:.2f}'\n",
    "     .format(classifier.score(X_train, y_train)))\n",
    "print('Accuracy of RF classifier on test set: {:.2f}'\n",
    "     .format(classifier.score(X_test, y_test)))"
   ]
  },
  {
   "cell_type": "code",
   "execution_count": 8,
   "metadata": {},
   "outputs": [
    {
     "name": "stdout",
     "output_type": "stream",
     "text": [
      "n_estimators = 1, Accuracy of RF classifier with gini index on training set: 0.93\n",
      "n_estimators = 1, Accuracy of RF classifier with gini index on test set: 0.89\n",
      "n_estimators = 2, Accuracy of RF classifier with gini index on training set: 0.95\n",
      "n_estimators = 2, Accuracy of RF classifier with gini index on test set: 0.88\n",
      "n_estimators = 3, Accuracy of RF classifier with gini index on training set: 0.96\n",
      "n_estimators = 3, Accuracy of RF classifier with gini index on test set: 0.92\n",
      "n_estimators = 4, Accuracy of RF classifier with gini index on training set: 0.96\n",
      "n_estimators = 4, Accuracy of RF classifier with gini index on test set: 0.93\n",
      "n_estimators = 5, Accuracy of RF classifier with gini index on training set: 0.97\n",
      "n_estimators = 5, Accuracy of RF classifier with gini index on test set: 0.92\n",
      "n_estimators = 6, Accuracy of RF classifier with gini index on training set: 0.98\n",
      "n_estimators = 6, Accuracy of RF classifier with gini index on test set: 0.93\n",
      "n_estimators = 7, Accuracy of RF classifier with gini index on training set: 0.98\n",
      "n_estimators = 7, Accuracy of RF classifier with gini index on test set: 0.93\n",
      "n_estimators = 8, Accuracy of RF classifier with gini index on training set: 0.98\n",
      "n_estimators = 8, Accuracy of RF classifier with gini index on test set: 0.92\n",
      "n_estimators = 9, Accuracy of RF classifier with gini index on training set: 0.99\n",
      "n_estimators = 9, Accuracy of RF classifier with gini index on test set: 0.91\n",
      "n_estimators = 10, Accuracy of RF classifier with gini index on training set: 0.98\n",
      "n_estimators = 10, Accuracy of RF classifier with gini index on test set: 0.92\n",
      "n_estimators = 11, Accuracy of RF classifier with gini index on training set: 0.98\n",
      "n_estimators = 11, Accuracy of RF classifier with gini index on test set: 0.91\n",
      "n_estimators = 12, Accuracy of RF classifier with gini index on training set: 0.98\n",
      "n_estimators = 12, Accuracy of RF classifier with gini index on test set: 0.92\n",
      "n_estimators = 13, Accuracy of RF classifier with gini index on training set: 0.98\n",
      "n_estimators = 13, Accuracy of RF classifier with gini index on test set: 0.91\n",
      "n_estimators = 14, Accuracy of RF classifier with gini index on training set: 0.98\n",
      "n_estimators = 14, Accuracy of RF classifier with gini index on test set: 0.93\n",
      "n_estimators = 15, Accuracy of RF classifier with gini index on training set: 0.98\n",
      "n_estimators = 15, Accuracy of RF classifier with gini index on test set: 0.92\n",
      "n_estimators = 16, Accuracy of RF classifier with gini index on training set: 0.99\n",
      "n_estimators = 16, Accuracy of RF classifier with gini index on test set: 0.93\n",
      "n_estimators = 17, Accuracy of RF classifier with gini index on training set: 0.99\n",
      "n_estimators = 17, Accuracy of RF classifier with gini index on test set: 0.93\n",
      "n_estimators = 18, Accuracy of RF classifier with gini index on training set: 0.99\n",
      "n_estimators = 18, Accuracy of RF classifier with gini index on test set: 0.93\n",
      "n_estimators = 19, Accuracy of RF classifier with gini index on training set: 0.99\n",
      "n_estimators = 19, Accuracy of RF classifier with gini index on test set: 0.92\n"
     ]
    }
   ],
   "source": [
    "from sklearn.ensemble import RandomForestClassifier\n",
    "for i in range (1,20):\n",
    "    classifier = RandomForestClassifier(n_estimators = i, criterion = 'gini', random_state = 0).fit(X_train, y_train)\n",
    "    print('n_estimators = {:.0f}, Accuracy of RF classifier with gini index on training set: {:.2f}'\n",
    "         .format(i, classifier.score(X_train, y_train)))\n",
    "    print('n_estimators = {:.0f}, Accuracy of RF classifier with gini index on test set: {:.2f}'\n",
    "         .format(i, classifier.score(X_test, y_test)))"
   ]
  },
  {
   "cell_type": "code",
   "execution_count": 9,
   "metadata": {},
   "outputs": [
    {
     "name": "stdout",
     "output_type": "stream",
     "text": [
      "n_estimators = 1, Accuracy of RF classifier with entropy index on training set: 0.93\n",
      "n_estimators = 1, Accuracy of RF classifier with entropy index on test set: 0.88\n",
      "n_estimators = 2, Accuracy of RF classifier with entropy index on training set: 0.95\n",
      "n_estimators = 2, Accuracy of RF classifier with entropy index on test set: 0.86\n",
      "n_estimators = 3, Accuracy of RF classifier with entropy index on training set: 0.96\n",
      "n_estimators = 3, Accuracy of RF classifier with entropy index on test set: 0.91\n",
      "n_estimators = 4, Accuracy of RF classifier with entropy index on training set: 0.96\n",
      "n_estimators = 4, Accuracy of RF classifier with entropy index on test set: 0.91\n",
      "n_estimators = 5, Accuracy of RF classifier with entropy index on training set: 0.96\n",
      "n_estimators = 5, Accuracy of RF classifier with entropy index on test set: 0.91\n",
      "n_estimators = 6, Accuracy of RF classifier with entropy index on training set: 0.97\n",
      "n_estimators = 6, Accuracy of RF classifier with entropy index on test set: 0.90\n",
      "n_estimators = 7, Accuracy of RF classifier with entropy index on training set: 0.98\n",
      "n_estimators = 7, Accuracy of RF classifier with entropy index on test set: 0.91\n",
      "n_estimators = 8, Accuracy of RF classifier with entropy index on training set: 0.98\n",
      "n_estimators = 8, Accuracy of RF classifier with entropy index on test set: 0.90\n",
      "n_estimators = 9, Accuracy of RF classifier with entropy index on training set: 0.98\n",
      "n_estimators = 9, Accuracy of RF classifier with entropy index on test set: 0.90\n",
      "n_estimators = 10, Accuracy of RF classifier with entropy index on training set: 0.98\n",
      "n_estimators = 10, Accuracy of RF classifier with entropy index on test set: 0.91\n",
      "n_estimators = 11, Accuracy of RF classifier with entropy index on training set: 0.98\n",
      "n_estimators = 11, Accuracy of RF classifier with entropy index on test set: 0.91\n",
      "n_estimators = 12, Accuracy of RF classifier with entropy index on training set: 0.98\n",
      "n_estimators = 12, Accuracy of RF classifier with entropy index on test set: 0.90\n",
      "n_estimators = 13, Accuracy of RF classifier with entropy index on training set: 0.98\n",
      "n_estimators = 13, Accuracy of RF classifier with entropy index on test set: 0.91\n",
      "n_estimators = 14, Accuracy of RF classifier with entropy index on training set: 0.98\n",
      "n_estimators = 14, Accuracy of RF classifier with entropy index on test set: 0.91\n",
      "n_estimators = 15, Accuracy of RF classifier with entropy index on training set: 0.98\n",
      "n_estimators = 15, Accuracy of RF classifier with entropy index on test set: 0.91\n",
      "n_estimators = 16, Accuracy of RF classifier with entropy index on training set: 0.98\n",
      "n_estimators = 16, Accuracy of RF classifier with entropy index on test set: 0.91\n",
      "n_estimators = 17, Accuracy of RF classifier with entropy index on training set: 0.98\n",
      "n_estimators = 17, Accuracy of RF classifier with entropy index on test set: 0.93\n",
      "n_estimators = 18, Accuracy of RF classifier with entropy index on training set: 0.98\n",
      "n_estimators = 18, Accuracy of RF classifier with entropy index on test set: 0.91\n",
      "n_estimators = 19, Accuracy of RF classifier with entropy index on training set: 0.98\n",
      "n_estimators = 19, Accuracy of RF classifier with entropy index on test set: 0.92\n"
     ]
    }
   ],
   "source": [
    "from sklearn.ensemble import RandomForestClassifier\n",
    "for i in range (1,20):\n",
    "    classifier = RandomForestClassifier(n_estimators = i, criterion = 'entropy', random_state = 0).fit(X_train, y_train)\n",
    "    print('n_estimators = {:.0f}, Accuracy of RF classifier with entropy index on training set: {:.2f}'\n",
    "         .format(i, classifier.score(X_train, y_train)))\n",
    "    print('n_estimators = {:.0f}, Accuracy of RF classifier with entropy index on test set: {:.2f}'\n",
    "         .format(i, classifier.score(X_test, y_test)))"
   ]
  },
  {
   "cell_type": "code",
   "execution_count": 10,
   "metadata": {},
   "outputs": [
    {
     "name": "stdout",
     "output_type": "stream",
     "text": [
      "n_estimators = 18, Accuracy of RF classifier with gini index on training set: 0.99\n",
      "n_estimators = 18, Accuracy of RF classifier with gini index on test set: 0.93\n"
     ]
    }
   ],
   "source": [
    "from sklearn.ensemble import RandomForestClassifier\n",
    "classifier = RandomForestClassifier(n_estimators = 18, criterion = 'gini', random_state = 0).fit(X_train, y_train)\n",
    "print('n_estimators = {:.0f}, Accuracy of RF classifier with gini index on training set: {:.2f}'\n",
    "         .format(18, classifier.score(X_train, y_train)))\n",
    "print('n_estimators = {:.0f}, Accuracy of RF classifier with gini index on test set: {:.2f}'\n",
    "         .format(18, classifier.score(X_test, y_test)))"
   ]
  },
  {
   "cell_type": "code",
   "execution_count": 11,
   "metadata": {},
   "outputs": [
    {
     "name": "stdout",
     "output_type": "stream",
     "text": [
      "[[64  4]\n",
      " [ 3 29]]\n"
     ]
    }
   ],
   "source": [
    "y_pred = classifier.predict(X_test)\n",
    "from sklearn.metrics import confusion_matrix, accuracy_score\n",
    "cm = confusion_matrix(y_test, y_pred)\n",
    "print(cm)"
   ]
  },
  {
   "cell_type": "code",
   "execution_count": 12,
   "metadata": {
    "scrolled": true
   },
   "outputs": [
    {
     "name": "stdout",
     "output_type": "stream",
     "text": [
      "[0]\n"
     ]
    }
   ],
   "source": [
    "print(classifier.predict(sc.transform([[30,87000]])))"
   ]
  },
  {
   "cell_type": "markdown",
   "metadata": {},
   "source": [
    "# Gradient Boosted Decision Trees"
   ]
  },
  {
   "cell_type": "code",
   "execution_count": 13,
   "metadata": {},
   "outputs": [
    {
     "name": "stdout",
     "output_type": "stream",
     "text": [
      "Accuracy of GBDT classifier on training set: 0.99\n",
      "Accuracy of GBDT classifier on test set: 0.81\n",
      "\n",
      "Accuracy of GBDT classifier on training set: 0.95\n",
      "Accuracy of GBDT classifier on test set: 0.80\n"
     ]
    }
   ],
   "source": [
    "from sklearn.ensemble import GradientBoostingClassifier\n",
    "\n",
    "X_train, X_test, y_train, y_test = train_test_split(X_train, y_train, random_state = 0)\n",
    "\n",
    "clf = GradientBoostingClassifier(random_state = 0)\n",
    "clf.fit(X_train, y_train)\n",
    "\n",
    "print('Accuracy of GBDT classifier on training set: {:.2f}'\n",
    "     .format(clf.score(X_train, y_train)))\n",
    "print('Accuracy of GBDT classifier on test set: {:.2f}\\n'\n",
    "     .format(clf.score(X_test, y_test)))\n",
    "\n",
    "clf = GradientBoostingClassifier(learning_rate = 0.01, max_depth = 2, random_state = 0)\n",
    "clf.fit(X_train, y_train)\n",
    "\n",
    "print('Accuracy of GBDT classifier on training set: {:.2f}'\n",
    "     .format(clf.score(X_train, y_train)))\n",
    "print('Accuracy of GBDT classifier on test set: {:.2f}'\n",
    "     .format(clf.score(X_test, y_test)))"
   ]
  },
  {
   "cell_type": "code",
   "execution_count": 14,
   "metadata": {},
   "outputs": [
    {
     "name": "stdout",
     "output_type": "stream",
     "text": [
      "learning_rate = 0.01, max_depth = 1, Accuracy of GBDT classifier on training set: 0.72\n",
      "learning_rate = 0.010, max_depth = 1, Accuracy of GBDT classifier on test set: 0.63\n",
      "learning_rate = 0.01, max_depth = 2, Accuracy of GBDT classifier on training set: 0.95\n",
      "learning_rate = 0.010, max_depth = 2, Accuracy of GBDT classifier on test set: 0.80\n",
      "learning_rate = 0.01, max_depth = 3, Accuracy of GBDT classifier on training set: 0.96\n",
      "learning_rate = 0.010, max_depth = 3, Accuracy of GBDT classifier on test set: 0.79\n",
      "learning_rate = 0.01, max_depth = 4, Accuracy of GBDT classifier on training set: 0.98\n",
      "learning_rate = 0.010, max_depth = 4, Accuracy of GBDT classifier on test set: 0.77\n",
      "learning_rate = 0.01, max_depth = 5, Accuracy of GBDT classifier on training set: 0.99\n",
      "learning_rate = 0.010, max_depth = 5, Accuracy of GBDT classifier on test set: 0.75\n",
      "learning_rate = 0.01, max_depth = 6, Accuracy of GBDT classifier on training set: 0.99\n",
      "learning_rate = 0.010, max_depth = 6, Accuracy of GBDT classifier on test set: 0.73\n",
      "learning_rate = 0.01, max_depth = 7, Accuracy of GBDT classifier on training set: 1.00\n",
      "learning_rate = 0.010, max_depth = 7, Accuracy of GBDT classifier on test set: 0.76\n",
      "learning_rate = 0.01, max_depth = 8, Accuracy of GBDT classifier on training set: 1.00\n",
      "learning_rate = 0.010, max_depth = 8, Accuracy of GBDT classifier on test set: 0.76\n",
      "learning_rate = 0.01, max_depth = 9, Accuracy of GBDT classifier on training set: 1.00\n",
      "learning_rate = 0.010, max_depth = 9, Accuracy of GBDT classifier on test set: 0.76\n",
      "learning_rate = 0.02, max_depth = 1, Accuracy of GBDT classifier on training set: 0.94\n",
      "learning_rate = 0.020, max_depth = 1, Accuracy of GBDT classifier on test set: 0.77\n",
      "learning_rate = 0.02, max_depth = 2, Accuracy of GBDT classifier on training set: 0.96\n",
      "learning_rate = 0.020, max_depth = 2, Accuracy of GBDT classifier on test set: 0.80\n",
      "learning_rate = 0.02, max_depth = 3, Accuracy of GBDT classifier on training set: 0.96\n",
      "learning_rate = 0.020, max_depth = 3, Accuracy of GBDT classifier on test set: 0.80\n",
      "learning_rate = 0.02, max_depth = 4, Accuracy of GBDT classifier on training set: 0.98\n",
      "learning_rate = 0.020, max_depth = 4, Accuracy of GBDT classifier on test set: 0.79\n",
      "learning_rate = 0.02, max_depth = 5, Accuracy of GBDT classifier on training set: 0.99\n",
      "learning_rate = 0.020, max_depth = 5, Accuracy of GBDT classifier on test set: 0.75\n",
      "learning_rate = 0.02, max_depth = 6, Accuracy of GBDT classifier on training set: 1.00\n",
      "learning_rate = 0.020, max_depth = 6, Accuracy of GBDT classifier on test set: 0.75\n",
      "learning_rate = 0.02, max_depth = 7, Accuracy of GBDT classifier on training set: 1.00\n",
      "learning_rate = 0.020, max_depth = 7, Accuracy of GBDT classifier on test set: 0.76\n",
      "learning_rate = 0.02, max_depth = 8, Accuracy of GBDT classifier on training set: 1.00\n",
      "learning_rate = 0.020, max_depth = 8, Accuracy of GBDT classifier on test set: 0.75\n",
      "learning_rate = 0.02, max_depth = 9, Accuracy of GBDT classifier on training set: 1.00\n",
      "learning_rate = 0.020, max_depth = 9, Accuracy of GBDT classifier on test set: 0.76\n",
      "learning_rate = 0.03, max_depth = 1, Accuracy of GBDT classifier on training set: 0.94\n",
      "learning_rate = 0.030, max_depth = 1, Accuracy of GBDT classifier on test set: 0.77\n",
      "learning_rate = 0.03, max_depth = 2, Accuracy of GBDT classifier on training set: 0.96\n",
      "learning_rate = 0.030, max_depth = 2, Accuracy of GBDT classifier on test set: 0.80\n",
      "learning_rate = 0.03, max_depth = 3, Accuracy of GBDT classifier on training set: 0.96\n",
      "learning_rate = 0.030, max_depth = 3, Accuracy of GBDT classifier on test set: 0.80\n",
      "learning_rate = 0.03, max_depth = 4, Accuracy of GBDT classifier on training set: 0.99\n",
      "learning_rate = 0.030, max_depth = 4, Accuracy of GBDT classifier on test set: 0.77\n",
      "learning_rate = 0.03, max_depth = 5, Accuracy of GBDT classifier on training set: 1.00\n",
      "learning_rate = 0.030, max_depth = 5, Accuracy of GBDT classifier on test set: 0.75\n",
      "learning_rate = 0.03, max_depth = 6, Accuracy of GBDT classifier on training set: 1.00\n",
      "learning_rate = 0.030, max_depth = 6, Accuracy of GBDT classifier on test set: 0.73\n",
      "learning_rate = 0.03, max_depth = 7, Accuracy of GBDT classifier on training set: 1.00\n",
      "learning_rate = 0.030, max_depth = 7, Accuracy of GBDT classifier on test set: 0.76\n",
      "learning_rate = 0.03, max_depth = 8, Accuracy of GBDT classifier on training set: 1.00\n",
      "learning_rate = 0.030, max_depth = 8, Accuracy of GBDT classifier on test set: 0.75\n",
      "learning_rate = 0.03, max_depth = 9, Accuracy of GBDT classifier on training set: 1.00\n",
      "learning_rate = 0.030, max_depth = 9, Accuracy of GBDT classifier on test set: 0.76\n",
      "learning_rate = 0.04, max_depth = 1, Accuracy of GBDT classifier on training set: 0.95\n",
      "learning_rate = 0.040, max_depth = 1, Accuracy of GBDT classifier on test set: 0.80\n",
      "learning_rate = 0.04, max_depth = 2, Accuracy of GBDT classifier on training set: 0.96\n",
      "learning_rate = 0.040, max_depth = 2, Accuracy of GBDT classifier on test set: 0.80\n",
      "learning_rate = 0.04, max_depth = 3, Accuracy of GBDT classifier on training set: 0.97\n",
      "learning_rate = 0.040, max_depth = 3, Accuracy of GBDT classifier on test set: 0.80\n",
      "learning_rate = 0.04, max_depth = 4, Accuracy of GBDT classifier on training set: 0.99\n",
      "learning_rate = 0.040, max_depth = 4, Accuracy of GBDT classifier on test set: 0.79\n",
      "learning_rate = 0.04, max_depth = 5, Accuracy of GBDT classifier on training set: 1.00\n",
      "learning_rate = 0.040, max_depth = 5, Accuracy of GBDT classifier on test set: 0.76\n",
      "learning_rate = 0.04, max_depth = 6, Accuracy of GBDT classifier on training set: 1.00\n",
      "learning_rate = 0.040, max_depth = 6, Accuracy of GBDT classifier on test set: 0.73\n",
      "learning_rate = 0.04, max_depth = 7, Accuracy of GBDT classifier on training set: 1.00\n",
      "learning_rate = 0.040, max_depth = 7, Accuracy of GBDT classifier on test set: 0.76\n",
      "learning_rate = 0.04, max_depth = 8, Accuracy of GBDT classifier on training set: 1.00\n",
      "learning_rate = 0.040, max_depth = 8, Accuracy of GBDT classifier on test set: 0.75\n",
      "learning_rate = 0.04, max_depth = 9, Accuracy of GBDT classifier on training set: 1.00\n",
      "learning_rate = 0.040, max_depth = 9, Accuracy of GBDT classifier on test set: 0.76\n",
      "learning_rate = 0.05, max_depth = 1, Accuracy of GBDT classifier on training set: 0.95\n",
      "learning_rate = 0.050, max_depth = 1, Accuracy of GBDT classifier on test set: 0.80\n",
      "learning_rate = 0.05, max_depth = 2, Accuracy of GBDT classifier on training set: 0.96\n",
      "learning_rate = 0.050, max_depth = 2, Accuracy of GBDT classifier on test set: 0.80\n",
      "learning_rate = 0.05, max_depth = 3, Accuracy of GBDT classifier on training set: 0.98\n",
      "learning_rate = 0.050, max_depth = 3, Accuracy of GBDT classifier on test set: 0.80\n",
      "learning_rate = 0.05, max_depth = 4, Accuracy of GBDT classifier on training set: 0.99\n",
      "learning_rate = 0.050, max_depth = 4, Accuracy of GBDT classifier on test set: 0.79\n",
      "learning_rate = 0.05, max_depth = 5, Accuracy of GBDT classifier on training set: 1.00\n",
      "learning_rate = 0.050, max_depth = 5, Accuracy of GBDT classifier on test set: 0.76\n",
      "learning_rate = 0.05, max_depth = 6, Accuracy of GBDT classifier on training set: 1.00\n",
      "learning_rate = 0.050, max_depth = 6, Accuracy of GBDT classifier on test set: 0.73\n",
      "learning_rate = 0.05, max_depth = 7, Accuracy of GBDT classifier on training set: 1.00\n",
      "learning_rate = 0.050, max_depth = 7, Accuracy of GBDT classifier on test set: 0.76\n",
      "learning_rate = 0.05, max_depth = 8, Accuracy of GBDT classifier on training set: 1.00\n",
      "learning_rate = 0.050, max_depth = 8, Accuracy of GBDT classifier on test set: 0.76\n",
      "learning_rate = 0.05, max_depth = 9, Accuracy of GBDT classifier on training set: 1.00\n",
      "learning_rate = 0.050, max_depth = 9, Accuracy of GBDT classifier on test set: 0.76\n",
      "learning_rate = 0.06, max_depth = 1, Accuracy of GBDT classifier on training set: 0.96\n",
      "learning_rate = 0.060, max_depth = 1, Accuracy of GBDT classifier on test set: 0.80\n",
      "learning_rate = 0.06, max_depth = 2, Accuracy of GBDT classifier on training set: 0.96\n",
      "learning_rate = 0.060, max_depth = 2, Accuracy of GBDT classifier on test set: 0.80\n",
      "learning_rate = 0.06, max_depth = 3, Accuracy of GBDT classifier on training set: 0.98\n",
      "learning_rate = 0.060, max_depth = 3, Accuracy of GBDT classifier on test set: 0.80\n",
      "learning_rate = 0.06, max_depth = 4, Accuracy of GBDT classifier on training set: 1.00\n",
      "learning_rate = 0.060, max_depth = 4, Accuracy of GBDT classifier on test set: 0.79\n"
     ]
    },
    {
     "name": "stdout",
     "output_type": "stream",
     "text": [
      "learning_rate = 0.06, max_depth = 5, Accuracy of GBDT classifier on training set: 1.00\n",
      "learning_rate = 0.060, max_depth = 5, Accuracy of GBDT classifier on test set: 0.77\n",
      "learning_rate = 0.06, max_depth = 6, Accuracy of GBDT classifier on training set: 1.00\n",
      "learning_rate = 0.060, max_depth = 6, Accuracy of GBDT classifier on test set: 0.75\n",
      "learning_rate = 0.06, max_depth = 7, Accuracy of GBDT classifier on training set: 1.00\n",
      "learning_rate = 0.060, max_depth = 7, Accuracy of GBDT classifier on test set: 0.76\n",
      "learning_rate = 0.06, max_depth = 8, Accuracy of GBDT classifier on training set: 1.00\n",
      "learning_rate = 0.060, max_depth = 8, Accuracy of GBDT classifier on test set: 0.75\n",
      "learning_rate = 0.06, max_depth = 9, Accuracy of GBDT classifier on training set: 1.00\n",
      "learning_rate = 0.060, max_depth = 9, Accuracy of GBDT classifier on test set: 0.76\n",
      "learning_rate = 0.07, max_depth = 1, Accuracy of GBDT classifier on training set: 0.96\n",
      "learning_rate = 0.070, max_depth = 1, Accuracy of GBDT classifier on test set: 0.80\n",
      "learning_rate = 0.07, max_depth = 2, Accuracy of GBDT classifier on training set: 0.96\n",
      "learning_rate = 0.070, max_depth = 2, Accuracy of GBDT classifier on test set: 0.80\n",
      "learning_rate = 0.07, max_depth = 3, Accuracy of GBDT classifier on training set: 0.98\n",
      "learning_rate = 0.070, max_depth = 3, Accuracy of GBDT classifier on test set: 0.80\n",
      "learning_rate = 0.07, max_depth = 4, Accuracy of GBDT classifier on training set: 1.00\n",
      "learning_rate = 0.070, max_depth = 4, Accuracy of GBDT classifier on test set: 0.79\n",
      "learning_rate = 0.07, max_depth = 5, Accuracy of GBDT classifier on training set: 1.00\n",
      "learning_rate = 0.070, max_depth = 5, Accuracy of GBDT classifier on test set: 0.77\n",
      "learning_rate = 0.07, max_depth = 6, Accuracy of GBDT classifier on training set: 1.00\n",
      "learning_rate = 0.070, max_depth = 6, Accuracy of GBDT classifier on test set: 0.76\n",
      "learning_rate = 0.07, max_depth = 7, Accuracy of GBDT classifier on training set: 1.00\n",
      "learning_rate = 0.070, max_depth = 7, Accuracy of GBDT classifier on test set: 0.76\n",
      "learning_rate = 0.07, max_depth = 8, Accuracy of GBDT classifier on training set: 1.00\n",
      "learning_rate = 0.070, max_depth = 8, Accuracy of GBDT classifier on test set: 0.75\n",
      "learning_rate = 0.07, max_depth = 9, Accuracy of GBDT classifier on training set: 1.00\n",
      "learning_rate = 0.070, max_depth = 9, Accuracy of GBDT classifier on test set: 0.76\n",
      "learning_rate = 0.08, max_depth = 1, Accuracy of GBDT classifier on training set: 0.96\n",
      "learning_rate = 0.080, max_depth = 1, Accuracy of GBDT classifier on test set: 0.80\n",
      "learning_rate = 0.08, max_depth = 2, Accuracy of GBDT classifier on training set: 0.96\n",
      "learning_rate = 0.080, max_depth = 2, Accuracy of GBDT classifier on test set: 0.80\n",
      "learning_rate = 0.08, max_depth = 3, Accuracy of GBDT classifier on training set: 0.99\n",
      "learning_rate = 0.080, max_depth = 3, Accuracy of GBDT classifier on test set: 0.81\n",
      "learning_rate = 0.08, max_depth = 4, Accuracy of GBDT classifier on training set: 1.00\n",
      "learning_rate = 0.080, max_depth = 4, Accuracy of GBDT classifier on test set: 0.79\n",
      "learning_rate = 0.08, max_depth = 5, Accuracy of GBDT classifier on training set: 1.00\n",
      "learning_rate = 0.080, max_depth = 5, Accuracy of GBDT classifier on test set: 0.76\n",
      "learning_rate = 0.08, max_depth = 6, Accuracy of GBDT classifier on training set: 1.00\n",
      "learning_rate = 0.080, max_depth = 6, Accuracy of GBDT classifier on test set: 0.77\n",
      "learning_rate = 0.08, max_depth = 7, Accuracy of GBDT classifier on training set: 1.00\n",
      "learning_rate = 0.080, max_depth = 7, Accuracy of GBDT classifier on test set: 0.76\n",
      "learning_rate = 0.08, max_depth = 8, Accuracy of GBDT classifier on training set: 1.00\n",
      "learning_rate = 0.080, max_depth = 8, Accuracy of GBDT classifier on test set: 0.75\n",
      "learning_rate = 0.08, max_depth = 9, Accuracy of GBDT classifier on training set: 1.00\n",
      "learning_rate = 0.080, max_depth = 9, Accuracy of GBDT classifier on test set: 0.76\n",
      "learning_rate = 0.09, max_depth = 1, Accuracy of GBDT classifier on training set: 0.96\n",
      "learning_rate = 0.090, max_depth = 1, Accuracy of GBDT classifier on test set: 0.80\n",
      "learning_rate = 0.09, max_depth = 2, Accuracy of GBDT classifier on training set: 0.96\n",
      "learning_rate = 0.090, max_depth = 2, Accuracy of GBDT classifier on test set: 0.80\n",
      "learning_rate = 0.09, max_depth = 3, Accuracy of GBDT classifier on training set: 0.99\n",
      "learning_rate = 0.090, max_depth = 3, Accuracy of GBDT classifier on test set: 0.80\n",
      "learning_rate = 0.09, max_depth = 4, Accuracy of GBDT classifier on training set: 1.00\n",
      "learning_rate = 0.090, max_depth = 4, Accuracy of GBDT classifier on test set: 0.79\n",
      "learning_rate = 0.09, max_depth = 5, Accuracy of GBDT classifier on training set: 1.00\n",
      "learning_rate = 0.090, max_depth = 5, Accuracy of GBDT classifier on test set: 0.77\n",
      "learning_rate = 0.09, max_depth = 6, Accuracy of GBDT classifier on training set: 1.00\n",
      "learning_rate = 0.090, max_depth = 6, Accuracy of GBDT classifier on test set: 0.76\n",
      "learning_rate = 0.09, max_depth = 7, Accuracy of GBDT classifier on training set: 1.00\n",
      "learning_rate = 0.090, max_depth = 7, Accuracy of GBDT classifier on test set: 0.76\n",
      "learning_rate = 0.09, max_depth = 8, Accuracy of GBDT classifier on training set: 1.00\n",
      "learning_rate = 0.090, max_depth = 8, Accuracy of GBDT classifier on test set: 0.75\n",
      "learning_rate = 0.09, max_depth = 9, Accuracy of GBDT classifier on training set: 1.00\n",
      "learning_rate = 0.090, max_depth = 9, Accuracy of GBDT classifier on test set: 0.76\n"
     ]
    }
   ],
   "source": [
    "for i in  ([0.01, 0.02, 0.03, 0.04, 0.05, 0.06, 0.07, 0.08, 0.09]):\n",
    "    for j in range(1,10):\n",
    "        clf = GradientBoostingClassifier(learning_rate = i, max_depth = j, random_state = 0)\n",
    "        clf.fit(X_train, y_train)\n",
    "        print('learning_rate = {:.2f}, max_depth = {:.0f}, Accuracy of GBDT classifier on training set: {:.2f}'\n",
    "             .format(i, j, clf.score(X_train, y_train)))\n",
    "        print('learning_rate = {:.3f}, max_depth = {:.0f}, Accuracy of GBDT classifier on test set: {:.2f}'\n",
    "             .format(i, j, clf.score(X_test, y_test)))"
   ]
  },
  {
   "cell_type": "code",
   "execution_count": 15,
   "metadata": {},
   "outputs": [
    {
     "name": "stdout",
     "output_type": "stream",
     "text": [
      "learning_rate = 0.05, max_depth = 3, Accuracy of GBDT classifier on training set: 0.98\n",
      "learning_rate = 0.050, max_depth = 3, Accuracy of GBDT classifier on test set: 0.80\n"
     ]
    }
   ],
   "source": [
    "clf = GradientBoostingClassifier(learning_rate = 0.05, max_depth = 3, random_state = 0)\n",
    "clf.fit(X_train, y_train)\n",
    "print('learning_rate = {:.2f}, max_depth = {:.0f}, Accuracy of GBDT classifier on training set: {:.2f}'\n",
    "             .format(0.05, 3, clf.score(X_train, y_train)))\n",
    "print('learning_rate = {:.3f}, max_depth = {:.0f}, Accuracy of GBDT classifier on test set: {:.2f}'\n",
    "             .format(0.05, 3, clf.score(X_test, y_test)))"
   ]
  },
  {
   "cell_type": "code",
   "execution_count": null,
   "metadata": {},
   "outputs": [],
   "source": []
  }
 ],
 "metadata": {
  "kernelspec": {
   "display_name": "Python 3",
   "language": "python",
   "name": "python3"
  },
  "language_info": {
   "codemirror_mode": {
    "name": "ipython",
    "version": 3
   },
   "file_extension": ".py",
   "mimetype": "text/x-python",
   "name": "python",
   "nbconvert_exporter": "python",
   "pygments_lexer": "ipython3",
   "version": "3.7.4"
  }
 },
 "nbformat": 4,
 "nbformat_minor": 2
}
